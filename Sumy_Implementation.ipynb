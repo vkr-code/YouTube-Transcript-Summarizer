{
 "cells": [
  {
   "cell_type": "code",
   "execution_count": 1,
   "id": "80c12fa9",
   "metadata": {},
   "outputs": [
    {
     "name": "stdout",
     "output_type": "stream",
     "text": [
      "Requirement already satisfied: sumy in d:\\sakshi\\major project\\anaconda\\lib\\site-packages (0.9.0)\n",
      "Requirement already satisfied: docopt<0.7,>=0.6.1 in d:\\sakshi\\major project\\anaconda\\lib\\site-packages (from sumy) (0.6.2)\n",
      "Requirement already satisfied: pycountry>=18.2.23 in d:\\sakshi\\major project\\anaconda\\lib\\site-packages (from sumy) (22.3.5)\n",
      "Requirement already satisfied: nltk>=3.0.2 in d:\\sakshi\\major project\\anaconda\\lib\\site-packages (from sumy) (3.6.5)\n",
      "Requirement already satisfied: breadability>=0.1.20 in d:\\sakshi\\major project\\anaconda\\lib\\site-packages (from sumy) (0.1.20)\n",
      "Requirement already satisfied: requests>=2.7.0 in d:\\sakshi\\major project\\anaconda\\lib\\site-packages (from sumy) (2.26.0)\n",
      "Requirement already satisfied: chardet in d:\\sakshi\\major project\\anaconda\\lib\\site-packages (from breadability>=0.1.20->sumy) (4.0.0)\n",
      "Requirement already satisfied: lxml>=2.0 in d:\\sakshi\\major project\\anaconda\\lib\\site-packages (from breadability>=0.1.20->sumy) (4.6.3)\n",
      "Requirement already satisfied: click in d:\\sakshi\\major project\\anaconda\\lib\\site-packages (from nltk>=3.0.2->sumy) (8.0.3)\n",
      "Requirement already satisfied: joblib in d:\\sakshi\\major project\\anaconda\\lib\\site-packages (from nltk>=3.0.2->sumy) (1.1.0)\n",
      "Requirement already satisfied: regex>=2021.8.3 in d:\\sakshi\\major project\\anaconda\\lib\\site-packages (from nltk>=3.0.2->sumy) (2021.8.3)\n",
      "Requirement already satisfied: tqdm in d:\\sakshi\\major project\\anaconda\\lib\\site-packages (from nltk>=3.0.2->sumy) (4.62.3)\n",
      "Requirement already satisfied: setuptools in d:\\sakshi\\major project\\anaconda\\lib\\site-packages (from pycountry>=18.2.23->sumy) (58.0.4)\n",
      "Requirement already satisfied: urllib3<1.27,>=1.21.1 in d:\\sakshi\\major project\\anaconda\\lib\\site-packages (from requests>=2.7.0->sumy) (1.26.7)\n",
      "Requirement already satisfied: certifi>=2017.4.17 in d:\\sakshi\\major project\\anaconda\\lib\\site-packages (from requests>=2.7.0->sumy) (2021.10.8)\n",
      "Requirement already satisfied: idna<4,>=2.5 in d:\\sakshi\\major project\\anaconda\\lib\\site-packages (from requests>=2.7.0->sumy) (3.2)\n",
      "Requirement already satisfied: charset-normalizer~=2.0.0 in d:\\sakshi\\major project\\anaconda\\lib\\site-packages (from requests>=2.7.0->sumy) (2.0.4)\n",
      "Requirement already satisfied: colorama in d:\\sakshi\\major project\\anaconda\\lib\\site-packages (from click->nltk>=3.0.2->sumy) (0.4.4)\n",
      "Note: you may need to restart the kernel to use updated packages.\n"
     ]
    }
   ],
   "source": [
    "pip install sumy"
   ]
  },
  {
   "cell_type": "code",
   "execution_count": 2,
   "id": "cef3ea61",
   "metadata": {},
   "outputs": [],
   "source": [
    "# Load Packages\n",
    "import sumy"
   ]
  },
  {
   "cell_type": "code",
   "execution_count": 3,
   "id": "9400ae29",
   "metadata": {},
   "outputs": [],
   "source": [
    "from sumy.parsers.plaintext import PlaintextParser\n",
    "from sumy.nlp.tokenizers import Tokenizer\n",
    "from sumy.summarizers.lex_rank import LexRankSummarizer "
   ]
  },
  {
   "cell_type": "code",
   "execution_count": 4,
   "id": "4059c725",
   "metadata": {},
   "outputs": [],
   "source": [
    "import pandas as pd"
   ]
  },
  {
   "cell_type": "code",
   "execution_count": 5,
   "id": "f69c11bb",
   "metadata": {},
   "outputs": [],
   "source": [
    "document1 = pd.read_table(\"output.txt\")"
   ]
  },
  {
   "cell_type": "code",
   "execution_count": 6,
   "id": "8bd84582",
   "metadata": {},
   "outputs": [
    {
     "data": {
      "text/html": [
       "<div>\n",
       "<style scoped>\n",
       "    .dataframe tbody tr th:only-of-type {\n",
       "        vertical-align: middle;\n",
       "    }\n",
       "\n",
       "    .dataframe tbody tr th {\n",
       "        vertical-align: top;\n",
       "    }\n",
       "\n",
       "    .dataframe thead th {\n",
       "        text-align: right;\n",
       "    }\n",
       "</style>\n",
       "<table border=\"1\" class=\"dataframe\">\n",
       "  <thead>\n",
       "    <tr style=\"text-align: right;\">\n",
       "      <th></th>\n",
       "      <th>Before we introduce the Java Platform, how about answering a very basic questionWhat is a PC? Take your time. The dictionary definition of computer is that it is an electronic device capable of performing computationsIt has many peripherals like a monitor and keyboard to accept or display data to users and memory to store information. But the heart of the computer is its processor which does all the thinking for the computer? Coming back to our definition of computer you may have noticed the key word electronic. Thinking of it if a computer is an electronic device. How can it understand and display text?images [videos] and other Rich media informationWell a computer understands onlyelectronic signals where a 5 volt current represents a binary 1 and a 0 volt current, represents a binary 0, Your PC is continually bombarded with these electronic pulses which it interprets 8 bits of such signals are grouped together and text. Numerical and symbols are identified by unique patterns of these 8 electric pulsesfor example the pound symbol is represented by the pattern 1 0 1 0 1 0 1 0, instruction to add two numbers is represented by Pattern1 0 0 0 0 0 1 1. This is 8-bit computing. Current day processors are capable of understanding and decoding 64 bits at a time. Suppose you are asked to write a program to add two numbers say add one with twoAssembly language is the most elementary form of software development languages? Your code to add two numbers in this [language] would look like store number [one] at Memory location say. A store number two at Memory locations say Badd contents of location a and B store results. The way you feed this code to the processor would depend on the PC You are using. Back in the 50s when computers were huge and consumed a great deal of power, you would convert your assembly language code into corresponding machine code of ones and zeros using mapping sheets and Punch the machine code into punch cards and then feed those punch cards to the computer. With advancement in technology I/o devices were invented you could directly type the program into the PCusing a program calledAssemblerConverted into corresponding machine code and feed that to your processorThat apart you will also have to make calls to operating systemsproviding functions to display the output of code With advancement, in software development languages this entire assembly code could be shrinked into just one line printf1 + 2A software called compiler is used to convert your C language code into assembly code and the Assembler converts it into corresponding machine code. Though Present-day compilers come bundled with assembler they can directly convert your higher language code into machine codes.  Now suppose windows operating system is running on this intel processor Combination of operating system plus the processor is called the platform . The most common platform in the world is the windows and intel called the wintel platformthe other popular platforms are amd and Linuxpower PC and Mac os xNow with change in processors the Assembly instructions will changeFor example the add instruction in intel may be called addition for amdor math add for PowerPC andObviously with change in operating system the level and nature os level call. We'll also change, as A developer I want my software program to work on all platforms available to maximize my revenuesSo I would have to buy separate compilers which convert my printf command into the native machine codeBut compilers come expensive and there's a chance of compatibility issues Enter Java language the code to display addition of two numbers is system. Dot out dotprint In 1+2 saved as a dot Java file Using the Java compiler the code is converted into a intermediate code called the bytecode. The outcome is a dot class file, This code is not understood by any platform, but only a virtual platform called the Java virtual machineThis virtual machine resides in the ram of your operating system when the virtual machine is fed with this bytecode [it] identifies the platform it is working on and Converts the bytecode into the native machine code infact while working on your PC Or browsing a web whenever you see either of these icons be assured the Java virtual machine is loaded in your ram,  But what makes Java lucrative is that code once compiled can run not only on all PC platforms? But also Mobile's or other electronic gadgets supporting JavaHence Java is a language as well as a platform.</th>\n",
       "    </tr>\n",
       "  </thead>\n",
       "  <tbody>\n",
       "  </tbody>\n",
       "</table>\n",
       "</div>"
      ],
      "text/plain": [
       "Empty DataFrame\n",
       "Columns: [Before we introduce the Java Platform, how about answering a very basic questionWhat is a PC? Take your time. The dictionary definition of computer is that it is an electronic device capable of performing computationsIt has many peripherals like a monitor and keyboard to accept or display data to users and memory to store information. But the heart of the computer is its processor which does all the thinking for the computer? Coming back to our definition of computer you may have noticed the key word electronic. Thinking of it if a computer is an electronic device. How can it understand and display text?images [videos] and other Rich media informationWell a computer understands onlyelectronic signals where a 5 volt current represents a binary 1 and a 0 volt current, represents a binary 0, Your PC is continually bombarded with these electronic pulses which it interprets 8 bits of such signals are grouped together and text. Numerical and symbols are identified by unique patterns of these 8 electric pulsesfor example the pound symbol is represented by the pattern 1 0 1 0 1 0 1 0, instruction to add two numbers is represented by Pattern1 0 0 0 0 0 1 1. This is 8-bit computing. Current day processors are capable of understanding and decoding 64 bits at a time. Suppose you are asked to write a program to add two numbers say add one with twoAssembly language is the most elementary form of software development languages? Your code to add two numbers in this [language] would look like store number [one] at Memory location say. A store number two at Memory locations say Badd contents of location a and B store results. The way you feed this code to the processor would depend on the PC You are using. Back in the 50s when computers were huge and consumed a great deal of power, you would convert your assembly language code into corresponding machine code of ones and zeros using mapping sheets and Punch the machine code into punch cards and then feed those punch cards to the computer. With advancement in technology I/o devices were invented you could directly type the program into the PCusing a program calledAssemblerConverted into corresponding machine code and feed that to your processorThat apart you will also have to make calls to operating systemsproviding functions to display the output of code With advancement, in software development languages this entire assembly code could be shrinked into just one line printf1 + 2A software called compiler is used to convert your C language code into assembly code and the Assembler converts it into corresponding machine code. Though Present-day compilers come bundled with assembler they can directly convert your higher language code into machine codes.  Now suppose windows operating system is running on this intel processor Combination of operating system plus the processor is called the platform . The most common platform in the world is the windows and intel called the wintel platformthe other popular platforms are amd and Linuxpower PC and Mac os xNow with change in processors the Assembly instructions will changeFor example the add instruction in intel may be called addition for amdor math add for PowerPC andObviously with change in operating system the level and nature os level call. We'll also change, as A developer I want my software program to work on all platforms available to maximize my revenuesSo I would have to buy separate compilers which convert my printf command into the native machine codeBut compilers come expensive and there's a chance of compatibility issues Enter Java language the code to display addition of two numbers is system. Dot out dotprint In 1+2 saved as a dot Java file Using the Java compiler the code is converted into a intermediate code called the bytecode. The outcome is a dot class file, This code is not understood by any platform, but only a virtual platform called the Java virtual machineThis virtual machine resides in the ram of your operating system when the virtual machine is fed with this bytecode [it] identifies the platform it is working on and Converts the bytecode into the native machine code infact while working on your PC Or browsing a web whenever you see either of these icons be assured the Java virtual machine is loaded in your ram,  But what makes Java lucrative is that code once compiled can run not only on all PC platforms? But also Mobile's or other electronic gadgets supporting JavaHence Java is a language as well as a platform.]\n",
       "Index: []"
      ]
     },
     "execution_count": 6,
     "metadata": {},
     "output_type": "execute_result"
    }
   ],
   "source": [
    "document1"
   ]
  },
  {
   "cell_type": "code",
   "execution_count": 7,
   "id": "5f08f70e",
   "metadata": {},
   "outputs": [],
   "source": [
    "# For Strings\n",
    "parser = PlaintextParser.from_string(document1,Tokenizer(\"english\"))"
   ]
  },
  {
   "cell_type": "code",
   "execution_count": 8,
   "id": "ab5d8042",
   "metadata": {},
   "outputs": [],
   "source": [
    "# Using LexRank\n",
    "summarizer = LexRankSummarizer()\n",
    "#Summarize the document with 2 sentences\n",
    "summary = summarizer(parser.document, 2)"
   ]
  },
  {
   "cell_type": "code",
   "execution_count": 9,
   "id": "f966b5f9",
   "metadata": {},
   "outputs": [
    {
     "name": "stdout",
     "output_type": "stream",
     "text": [
      "With advancement in technology I/o devices were invented you could directly type the program into the PCusing a program calledAssemblerConverted into corresponding machine code and feed that to your processorThat apart you will also have to make calls to operating systemsproviding functions to display the output of code With advancement, in software development languages this entire assembly code could be shrinked into just one line printf1 + 2A software called compiler is used to convert your C language code into assembly code and the Assembler converts it into corresponding machine code.\n",
      "The outcome is a dot class file, This code is not understood by any platform, but only a virtual platform called the Java virtual machineThis virtual machine resides in the ram of your operating system when the virtual machine is fed with this bytecode [it] identifies the platform it is working on and Converts the bytecode into the native machine code infact while working on your PC Or browsing a web whenever you see either of these icons be assured the Java virtual machine is loaded in your ram,  But what makes Java lucrative is that code once compiled can run not only on all PC platforms?\n"
     ]
    }
   ],
   "source": [
    "for sentence in summary:\n",
    "    print(sentence)"
   ]
  },
  {
   "cell_type": "code",
   "execution_count": 10,
   "id": "43812d38",
   "metadata": {},
   "outputs": [],
   "source": [
    "from sumy.summarizers.luhn import LuhnSummarizer"
   ]
  },
  {
   "cell_type": "code",
   "execution_count": 11,
   "id": "5274bdbe",
   "metadata": {},
   "outputs": [],
   "source": [
    "summarizer_luhn = LuhnSummarizer()\n",
    "summary_1 =summarizer_luhn(parser.document,2)"
   ]
  },
  {
   "cell_type": "code",
   "execution_count": 12,
   "id": "a04134cc",
   "metadata": {},
   "outputs": [
    {
     "name": "stdout",
     "output_type": "stream",
     "text": [
      "With advancement in technology I/o devices were invented you could directly type the program into the PCusing a program calledAssemblerConverted into corresponding machine code and feed that to your processorThat apart you will also have to make calls to operating systemsproviding functions to display the output of code With advancement, in software development languages this entire assembly code could be shrinked into just one line printf1 + 2A software called compiler is used to convert your C language code into assembly code and the Assembler converts it into corresponding machine code.\n",
      "The outcome is a dot class file, This code is not understood by any platform, but only a virtual platform called the Java virtual machineThis virtual machine resides in the ram of your operating system when the virtual machine is fed with this bytecode [it] identifies the platform it is working on and Converts the bytecode into the native machine code infact while working on your PC Or browsing a web whenever you see either of these icons be assured the Java virtual machine is loaded in your ram,  But what makes Java lucrative is that code once compiled can run not only on all PC platforms?\n"
     ]
    }
   ],
   "source": [
    "for sentence in summary_1:\n",
    "    print(sentence)"
   ]
  },
  {
   "cell_type": "code",
   "execution_count": 13,
   "id": "5135d511",
   "metadata": {},
   "outputs": [],
   "source": [
    "from sumy.summarizers.lsa import LsaSummarizer"
   ]
  },
  {
   "cell_type": "code",
   "execution_count": 14,
   "id": "c1b5497a",
   "metadata": {},
   "outputs": [],
   "source": [
    "summarizer_lsa = LsaSummarizer()\n",
    "summary_2 =summarizer_lsa(parser.document,2)"
   ]
  },
  {
   "cell_type": "code",
   "execution_count": 15,
   "id": "f41561ff",
   "metadata": {},
   "outputs": [
    {
     "name": "stdout",
     "output_type": "stream",
     "text": [
      "Your code to add two numbers in this [language] would look like store number [one] at Memory location say.\n",
      "Though Present-day compilers come bundled with assembler they can directly convert your higher language code into machine codes.\n"
     ]
    }
   ],
   "source": [
    "for sentence in summary_2:\n",
    "    print(sentence)"
   ]
  },
  {
   "cell_type": "code",
   "execution_count": 16,
   "id": "5e037341",
   "metadata": {},
   "outputs": [],
   "source": [
    "## Alternative Method using stopwords\n",
    "from sumy.nlp.stemmers import Stemmer\n",
    "from sumy.utils import get_stop_words\n",
    "summarizer_lsa2 = LsaSummarizer()\n",
    "summarizer_lsa2 = LsaSummarizer(Stemmer(\"english\"))\n",
    "summarizer_lsa2.stop_words = get_stop_words(\"english\")"
   ]
  },
  {
   "cell_type": "code",
   "execution_count": 17,
   "id": "95fe7f27",
   "metadata": {},
   "outputs": [
    {
     "name": "stdout",
     "output_type": "stream",
     "text": [
      "The dictionary definition of computer is that it is an electronic device capable of performing computationsIt has many peripherals like a monitor and keyboard to accept or display data to users and memory to store information.\n",
      "How can it understand and display text?images [videos] and other Rich media informationWell a computer understands onlyelectronic signals where a 5 volt current represents a binary 1 and a 0 volt current, represents a binary 0, Your PC is continually bombarded with these electronic pulses which it interprets 8 bits of such signals are grouped together and text.\n"
     ]
    }
   ],
   "source": [
    "for sentence in summarizer_lsa2(parser.document,2):\n",
    "    print(sentence)"
   ]
  },
  {
   "cell_type": "code",
   "execution_count": null,
   "id": "78e863cb",
   "metadata": {},
   "outputs": [],
   "source": []
  }
 ],
 "metadata": {
  "kernelspec": {
   "display_name": "Python 3 (ipykernel)",
   "language": "python",
   "name": "python3"
  },
  "language_info": {
   "codemirror_mode": {
    "name": "ipython",
    "version": 3
   },
   "file_extension": ".py",
   "mimetype": "text/x-python",
   "name": "python",
   "nbconvert_exporter": "python",
   "pygments_lexer": "ipython3",
   "version": "3.9.7"
  }
 },
 "nbformat": 4,
 "nbformat_minor": 5
}
